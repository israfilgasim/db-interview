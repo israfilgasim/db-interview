{
 "cells": [
  {
   "cell_type": "code",
   "execution_count": 5,
   "metadata": {},
   "outputs": [
    {
     "name": "stdout",
     "output_type": "stream",
     "text": [
      "   id             email\n",
      "0   1  john@example.com\n",
      "1   2   bob@example.com\n",
      "2   3  john@example.com\n"
     ]
    }
   ],
   "source": [
    "ids = [1, 2, 3]\n",
    "emails = ['john@example.com', 'bob@example.com', 'john@example.com']\n",
    "\n",
    "import pandas as pd\n",
    "\n",
    "person = pd.DataFrame({'id': ids, 'email': emails})\n",
    "print(person.head())"
   ]
  },
  {
   "cell_type": "code",
   "execution_count": 7,
   "metadata": {},
   "outputs": [
    {
     "name": "stdout",
     "output_type": "stream",
     "text": [
      "   id             email\n",
      "0   1  john@example.com\n",
      "1   2   bob@example.com\n"
     ]
    }
   ],
   "source": [
    "person.sort_values('id', inplace = True)\n",
    "person.drop_duplicates(subset = 'email', inplace = True)\n",
    "print(person)"
   ]
  }
 ],
 "metadata": {
  "kernelspec": {
   "display_name": "Python 3",
   "language": "python",
   "name": "python3"
  },
  "language_info": {
   "codemirror_mode": {
    "name": "ipython",
    "version": 3
   },
   "file_extension": ".py",
   "mimetype": "text/x-python",
   "name": "python",
   "nbconvert_exporter": "python",
   "pygments_lexer": "ipython3",
   "version": "3.11.4"
  },
  "orig_nbformat": 4
 },
 "nbformat": 4,
 "nbformat_minor": 2
}
