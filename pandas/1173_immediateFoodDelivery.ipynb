{
 "cells": [
  {
   "cell_type": "code",
   "execution_count": 1,
   "metadata": {},
   "outputs": [
    {
     "name": "stdout",
     "output_type": "stream",
     "text": [
      "   delivery_id  customer_id  order_date customer_pref_date\n",
      "0            1            1  2018-01-01         2018-01-04\n",
      "1            2            5  2018-01-01         2018-01-01\n",
      "2            3            1  2018-01-01         2018-01-01\n",
      "3            4            3  2018-01-02         2018-01-05\n",
      "4            5            4  2018-01-02         2018-01-05\n"
     ]
    }
   ],
   "source": [
    "delivery_id = [1, 2, 3, 4, 5, 6]\n",
    "customer_id = [1, 5, 1, 3, 4, 2]\n",
    "order_date = ['2018-01-01', '2018-01-01', '2018-01-01', '2018-01-02', '2018-01-02', '2018-01-03']\n",
    "customer_pref_date = ['2018-01-04', '2018-01-01', '2018-01-01', '2018-01-05', '2018-01-05', '2018-01-06']\n",
    "\n",
    "import pandas as pd\n",
    "import numpy as np\n",
    "\n",
    "my_dict = {'delivery_id': delivery_id, 'customer_id': customer_id, 'order_date': order_date, 'customer_pref_date': customer_pref_date}\n",
    "df = pd.DataFrame(my_dict)\n",
    "\n",
    "print(df.head())"
   ]
  },
  {
   "cell_type": "code",
   "execution_count": 2,
   "metadata": {},
   "outputs": [
    {
     "name": "stdout",
     "output_type": "stream",
     "text": [
      "33.33\n"
     ]
    }
   ],
   "source": [
    "count_same_date = df[df['order_date'] == df['customer_pref_date']].shape[0]\n",
    "all_count = df.shape[0]\n",
    "perc = round(count_same_date/all_count * 10000) / 100\n",
    "print(perc)"
   ]
  },
  {
   "cell_type": "code",
   "execution_count": 3,
   "metadata": {},
   "outputs": [
    {
     "name": "stdout",
     "output_type": "stream",
     "text": [
      "   immediate_percentage\n",
      "0                 33.33\n"
     ]
    }
   ],
   "source": [
    "answer = pd.DataFrame({'immediate_percentage' : [perc]})\n",
    "print(answer)"
   ]
  }
 ],
 "metadata": {
  "kernelspec": {
   "display_name": "Python 3",
   "language": "python",
   "name": "python3"
  },
  "language_info": {
   "codemirror_mode": {
    "name": "ipython",
    "version": 3
   },
   "file_extension": ".py",
   "mimetype": "text/x-python",
   "name": "python",
   "nbconvert_exporter": "python",
   "pygments_lexer": "ipython3",
   "version": "3.11.4"
  },
  "orig_nbformat": 4
 },
 "nbformat": 4,
 "nbformat_minor": 2
}
