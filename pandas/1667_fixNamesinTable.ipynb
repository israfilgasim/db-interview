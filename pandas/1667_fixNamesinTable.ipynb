{
 "cells": [
  {
   "cell_type": "code",
   "execution_count": 3,
   "metadata": {},
   "outputs": [
    {
     "name": "stdout",
     "output_type": "stream",
     "text": [
      "   user_id    name\n",
      "0      593   DAlia\n",
      "1      944  FREIda\n",
      "2      222  refAEL\n"
     ]
    }
   ],
   "source": [
    "import pandas as pd\n",
    "\n",
    "user_id = [593, 944, 222]\n",
    "user_name = ['DAlia', 'FREIda', 'refAEL']\n",
    "\n",
    "users = pd.DataFrame({'user_id': user_id, 'name': user_name})\n",
    "print(users.head())"
   ]
  },
  {
   "cell_type": "code",
   "execution_count": 4,
   "metadata": {},
   "outputs": [
    {
     "name": "stdout",
     "output_type": "stream",
     "text": [
      "   user_id    name\n",
      "2      222  Refael\n",
      "0      593   Dalia\n",
      "1      944  Freida\n"
     ]
    }
   ],
   "source": [
    "users['name'] = users['name'].str.capitalize()\n",
    "users.sort_values(by = 'user_id', inplace = True)\n",
    "print(users.head())"
   ]
  },
  {
   "cell_type": "markdown",
   "metadata": {},
   "source": [
    "Another method you can use user.name instead of user['name']."
   ]
  }
 ],
 "metadata": {
  "kernelspec": {
   "display_name": "Python 3",
   "language": "python",
   "name": "python3"
  },
  "language_info": {
   "codemirror_mode": {
    "name": "ipython",
    "version": 3
   },
   "file_extension": ".py",
   "mimetype": "text/x-python",
   "name": "python",
   "nbconvert_exporter": "python",
   "pygments_lexer": "ipython3",
   "version": "3.11.4"
  },
  "orig_nbformat": 4
 },
 "nbformat": 4,
 "nbformat_minor": 2
}
